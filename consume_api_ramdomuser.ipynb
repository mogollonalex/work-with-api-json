{
  "nbformat": 4,
  "nbformat_minor": 0,
  "metadata": {
    "colab": {
      "provenance": [],
      "authorship_tag": "ABX9TyMBDZb3quPIH/rl//vnyGbn",
      "include_colab_link": true
    },
    "kernelspec": {
      "name": "python3",
      "display_name": "Python 3"
    },
    "language_info": {
      "name": "python"
    }
  },
  "cells": [
    {
      "cell_type": "markdown",
      "metadata": {
        "id": "view-in-github",
        "colab_type": "text"
      },
      "source": [
        "<a href=\"https://colab.research.google.com/github/mogollonalex/work-with-api-json/blob/main/consume_api_ramdomuser.ipynb\" target=\"_parent\"><img src=\"https://colab.research.google.com/assets/colab-badge.svg\" alt=\"Open In Colab\"/></a>"
      ]
    },
    {
      "cell_type": "code",
      "execution_count": 3,
      "metadata": {
        "id": "lhMfrQkWih35"
      },
      "outputs": [],
      "source": [
        "import requests"
      ]
    },
    {
      "cell_type": "code",
      "source": [
        "requests.get(\"https://randomuser.me/api/\")"
      ],
      "metadata": {
        "colab": {
          "base_uri": "https://localhost:8080/"
        },
        "id": "yKjvwJS3izmE",
        "outputId": "3c8a2b0a-a158-400b-f047-0d435b7d4eb3"
      },
      "execution_count": 5,
      "outputs": [
        {
          "output_type": "execute_result",
          "data": {
            "text/plain": [
              "<Response [200]>"
            ]
          },
          "metadata": {},
          "execution_count": 5
        }
      ]
    },
    {
      "cell_type": "code",
      "source": [
        "response = requests.get(\"https://randomuser.me/api/\")"
      ],
      "metadata": {
        "id": "N49E7sE-jMvq"
      },
      "execution_count": 6,
      "outputs": []
    },
    {
      "cell_type": "code",
      "source": [
        "response.text"
      ],
      "metadata": {
        "colab": {
          "base_uri": "https://localhost:8080/",
          "height": 218
        },
        "id": "FZlj_RRijMtQ",
        "outputId": "365f98c3-fd0b-4f0f-f252-8ad96229ed12"
      },
      "execution_count": 7,
      "outputs": [
        {
          "output_type": "execute_result",
          "data": {
            "text/plain": [
              "'{\"results\":[{\"gender\":\"female\",\"name\":{\"title\":\"Mrs\",\"first\":\"Tilde\",\"last\":\"Hansen\"},\"location\":{\"street\":{\"number\":6898,\"name\":\"Haveforeningen Rønhøjgård\"},\"city\":\"Klitmøller\",\"state\":\"Danmark\",\"country\":\"Denmark\",\"postcode\":21615,\"coordinates\":{\"latitude\":\"-45.2882\",\"longitude\":\"142.7682\"},\"timezone\":{\"offset\":\"-8:00\",\"description\":\"Pacific Time (US & Canada)\"}},\"email\":\"tilde.hansen@example.com\",\"login\":{\"uuid\":\"f382b452-2196-4014-ad38-7f29a5692e7c\",\"username\":\"lazyladybug976\",\"password\":\"citadel\",\"salt\":\"hJzberi2\",\"md5\":\"a03fb3d4a0e762c3841a3715ac078300\",\"sha1\":\"e1ca230f6a5b58346cd862174475933c6faa26e8\",\"sha256\":\"0174155b691a0601bd26fcd0560daad56046c9c0d8bfc00cc4a9981fef1425a6\"},\"dob\":{\"date\":\"1953-06-03T02:29:57.851Z\",\"age\":69},\"registered\":{\"date\":\"2013-10-11T01:12:10.569Z\",\"age\":8},\"phone\":\"34619483\",\"cell\":\"68053943\",\"id\":{\"name\":\"CPR\",\"value\":\"020653-5112\"},\"picture\":{\"large\":\"https://randomuser.me/api/portraits/women/66.jpg\",\"medium\":\"https://randomuser.me/api/portraits/med/women/66.jpg\",\"thumbnail\":\"https://randomuser.me/api/portraits/thumb/women/66.jpg\"},\"nat\":\"DK\"}],\"info\":{\"seed\":\"b344e2738e1bf741\",\"results\":1,\"page\":1,\"version\":\"1.4\"}}'"
            ],
            "application/vnd.google.colaboratory.intrinsic+json": {
              "type": "string"
            }
          },
          "metadata": {},
          "execution_count": 7
        }
      ]
    },
    {
      "cell_type": "markdown",
      "source": [
        "# Source: https://realpython.com/python-api/"
      ],
      "metadata": {
        "id": "IppIMB0XiwhE"
      }
    }
  ]
}